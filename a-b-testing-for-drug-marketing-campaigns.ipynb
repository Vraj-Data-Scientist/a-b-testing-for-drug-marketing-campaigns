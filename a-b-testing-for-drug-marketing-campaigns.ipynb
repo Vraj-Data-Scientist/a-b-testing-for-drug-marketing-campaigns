{
 "cells": [
  {
   "cell_type": "markdown",
   "id": "afccaa92-7cd5-4ef2-8e75-c717131335be",
   "metadata": {},
   "source": [
    "**Domain**: Healthcare/Pharmaceutical Marketing \n",
    "\n",
    "The project, **A/B Testing for Drug Marketing Campaigns**, focuses on evaluating marketing campaigns targeting elderly patients (65+ years) in therapeutic areas like cardiovascular, neurology, and endocrinology. It leverages A/B testing to compare the effectiveness of a new campaign (e.g., video ads emphasizing ease of use) against an existing one (e.g., standard flyers), using metrics like prescription uptake. The healthcare domain is critical, as it patient-centric solutions for underserved populations, requiring data-driven commercial strategies to optimize campaign ROI and patient engagement."
   ]
  },
  {
   "cell_type": "code",
   "execution_count": null,
   "id": "fe62a925-8874-4ecd-b0f9-2af9b980ed08",
   "metadata": {},
   "outputs": [],
   "source": []
  },
  {
   "cell_type": "code",
   "execution_count": null,
   "id": "eeedb08f-8b17-4b64-b408-051bf8e8b7ab",
   "metadata": {},
   "outputs": [],
   "source": []
  },
  {
   "cell_type": "code",
   "execution_count": 2,
   "id": "c2200641-fea3-4009-b610-34c89b59de42",
   "metadata": {},
   "outputs": [],
   "source": [
    "# Import Libraries\n",
    "\n",
    "import pandas as pd\n",
    "import numpy as np\n",
    "import matplotlib.pyplot as plt\n",
    "import seaborn as sns\n",
    "from scipy.stats import ttest_ind\n",
    "from statsmodels.stats.power import NormalIndPower\n",
    "from scipy.stats import norm\n",
    "import warnings\n",
    "warnings.filterwarnings('ignore')\n",
    "\n",
    "# Set plot style\n",
    "sns.set_style(\"whitegrid\")"
   ]
  },
  {
   "cell_type": "code",
   "execution_count": 3,
   "id": "0f9532de-f725-47e1-a2da-5c8f23426a55",
   "metadata": {},
   "outputs": [],
   "source": [
    "# Load and Adapt Dataset\n",
    "# Load Kaggle Marketing A/B Testing Dataset\n",
    "df = pd.read_csv('marketing_AB.csv')"
   ]
  },
  {
   "cell_type": "code",
   "execution_count": 4,
   "id": "312063b0-1692-4ee0-923c-43ba7bd10528",
   "metadata": {},
   "outputs": [
    {
     "data": {
      "text/html": [
       "<div>\n",
       "<style scoped>\n",
       "    .dataframe tbody tr th:only-of-type {\n",
       "        vertical-align: middle;\n",
       "    }\n",
       "\n",
       "    .dataframe tbody tr th {\n",
       "        vertical-align: top;\n",
       "    }\n",
       "\n",
       "    .dataframe thead th {\n",
       "        text-align: right;\n",
       "    }\n",
       "</style>\n",
       "<table border=\"1\" class=\"dataframe\">\n",
       "  <thead>\n",
       "    <tr style=\"text-align: right;\">\n",
       "      <th></th>\n",
       "      <th>Unnamed: 0</th>\n",
       "      <th>user id</th>\n",
       "      <th>test group</th>\n",
       "      <th>converted</th>\n",
       "      <th>total ads</th>\n",
       "      <th>most ads day</th>\n",
       "      <th>most ads hour</th>\n",
       "    </tr>\n",
       "  </thead>\n",
       "  <tbody>\n",
       "    <tr>\n",
       "      <th>244839</th>\n",
       "      <td>244839</td>\n",
       "      <td>1101467</td>\n",
       "      <td>ad</td>\n",
       "      <td>False</td>\n",
       "      <td>23</td>\n",
       "      <td>Sunday</td>\n",
       "      <td>21</td>\n",
       "    </tr>\n",
       "    <tr>\n",
       "      <th>97065</th>\n",
       "      <td>97065</td>\n",
       "      <td>1022545</td>\n",
       "      <td>ad</td>\n",
       "      <td>False</td>\n",
       "      <td>9</td>\n",
       "      <td>Tuesday</td>\n",
       "      <td>15</td>\n",
       "    </tr>\n",
       "    <tr>\n",
       "      <th>75061</th>\n",
       "      <td>75061</td>\n",
       "      <td>1299291</td>\n",
       "      <td>ad</td>\n",
       "      <td>False</td>\n",
       "      <td>415</td>\n",
       "      <td>Wednesday</td>\n",
       "      <td>11</td>\n",
       "    </tr>\n",
       "    <tr>\n",
       "      <th>308742</th>\n",
       "      <td>308742</td>\n",
       "      <td>1141735</td>\n",
       "      <td>ad</td>\n",
       "      <td>False</td>\n",
       "      <td>30</td>\n",
       "      <td>Sunday</td>\n",
       "      <td>8</td>\n",
       "    </tr>\n",
       "    <tr>\n",
       "      <th>51205</th>\n",
       "      <td>51205</td>\n",
       "      <td>910901</td>\n",
       "      <td>psa</td>\n",
       "      <td>False</td>\n",
       "      <td>49</td>\n",
       "      <td>Tuesday</td>\n",
       "      <td>10</td>\n",
       "    </tr>\n",
       "  </tbody>\n",
       "</table>\n",
       "</div>"
      ],
      "text/plain": [
       "        Unnamed: 0  user id test group  converted  total ads most ads day  \\\n",
       "244839      244839  1101467         ad      False         23       Sunday   \n",
       "97065        97065  1022545         ad      False          9      Tuesday   \n",
       "75061        75061  1299291         ad      False        415    Wednesday   \n",
       "308742      308742  1141735         ad      False         30       Sunday   \n",
       "51205        51205   910901        psa      False         49      Tuesday   \n",
       "\n",
       "        most ads hour  \n",
       "244839             21  \n",
       "97065              15  \n",
       "75061              11  \n",
       "308742              8  \n",
       "51205              10  "
      ]
     },
     "execution_count": 4,
     "metadata": {},
     "output_type": "execute_result"
    }
   ],
   "source": [
    "df.sample(5)"
   ]
  },
  {
   "cell_type": "code",
   "execution_count": 5,
   "id": "071d497a-cbb7-49ec-8dff-adca0907fe24",
   "metadata": {},
   "outputs": [
    {
     "data": {
      "text/plain": [
       "Index(['Unnamed: 0', 'user id', 'test group', 'converted', 'total ads',\n",
       "       'most ads day', 'most ads hour'],\n",
       "      dtype='object')"
      ]
     },
     "execution_count": 5,
     "metadata": {},
     "output_type": "execute_result"
    }
   ],
   "source": [
    "df.columns"
   ]
  },
  {
   "cell_type": "code",
   "execution_count": 6,
   "id": "1e6b7195-5a84-4277-ba01-24305e57a04c",
   "metadata": {},
   "outputs": [],
   "source": [
    "# Drop unnecessary columns\n",
    "df.drop(columns=['Unnamed: 0', 'user id'], inplace=True)"
   ]
  },
  {
   "cell_type": "code",
   "execution_count": 7,
   "id": "4c28c812-61ea-4a33-ae46-02f7fc474781",
   "metadata": {},
   "outputs": [
    {
     "data": {
      "text/plain": [
       "Index(['test group', 'converted', 'total ads', 'most ads day',\n",
       "       'most ads hour'],\n",
       "      dtype='object')"
      ]
     },
     "execution_count": 7,
     "metadata": {},
     "output_type": "execute_result"
    }
   ],
   "source": [
    "df.columns"
   ]
  },
  {
   "cell_type": "code",
   "execution_count": 8,
   "id": "55e75902-b588-48f0-943b-acf6a06c2cc7",
   "metadata": {},
   "outputs": [],
   "source": [
    "# Convert 'converted' to integer\n",
    "df['converted'] = df['converted'].astype(int)"
   ]
  },
  {
   "cell_type": "code",
   "execution_count": 9,
   "id": "fcc2b4f4-70d0-499e-8ab0-c19704476211",
   "metadata": {},
   "outputs": [
    {
     "data": {
      "text/plain": [
       "array([0, 1])"
      ]
     },
     "execution_count": 9,
     "metadata": {},
     "output_type": "execute_result"
    }
   ],
   "source": [
    "df.converted.unique()"
   ]
  },
  {
   "cell_type": "code",
   "execution_count": 10,
   "id": "689edbf0-df79-4781-941d-8f1ecfaa689e",
   "metadata": {},
   "outputs": [],
   "source": [
    "# Add synthetic healthcare columns for elderly patients\n",
    "df['age'] = np.random.randint(65, 90, size=len(df))  # Age 65-90\n",
    "df['health_condition'] = np.random.choice(['Cardiovascular', 'Neurology', 'Endocrinology'], size=len(df))"
   ]
  },
  {
   "cell_type": "code",
   "execution_count": 11,
   "id": "b14a7bfa-4e99-44dc-9881-0a0f248f9fff",
   "metadata": {},
   "outputs": [
    {
     "data": {
      "text/html": [
       "<div>\n",
       "<style scoped>\n",
       "    .dataframe tbody tr th:only-of-type {\n",
       "        vertical-align: middle;\n",
       "    }\n",
       "\n",
       "    .dataframe tbody tr th {\n",
       "        vertical-align: top;\n",
       "    }\n",
       "\n",
       "    .dataframe thead th {\n",
       "        text-align: right;\n",
       "    }\n",
       "</style>\n",
       "<table border=\"1\" class=\"dataframe\">\n",
       "  <thead>\n",
       "    <tr style=\"text-align: right;\">\n",
       "      <th></th>\n",
       "      <th>test group</th>\n",
       "      <th>converted</th>\n",
       "      <th>total ads</th>\n",
       "      <th>most ads day</th>\n",
       "      <th>most ads hour</th>\n",
       "      <th>age</th>\n",
       "      <th>health_condition</th>\n",
       "    </tr>\n",
       "  </thead>\n",
       "  <tbody>\n",
       "    <tr>\n",
       "      <th>402801</th>\n",
       "      <td>ad</td>\n",
       "      <td>0</td>\n",
       "      <td>21</td>\n",
       "      <td>Tuesday</td>\n",
       "      <td>12</td>\n",
       "      <td>70</td>\n",
       "      <td>Cardiovascular</td>\n",
       "    </tr>\n",
       "    <tr>\n",
       "      <th>129930</th>\n",
       "      <td>ad</td>\n",
       "      <td>0</td>\n",
       "      <td>72</td>\n",
       "      <td>Thursday</td>\n",
       "      <td>13</td>\n",
       "      <td>66</td>\n",
       "      <td>Cardiovascular</td>\n",
       "    </tr>\n",
       "    <tr>\n",
       "      <th>440252</th>\n",
       "      <td>ad</td>\n",
       "      <td>0</td>\n",
       "      <td>1</td>\n",
       "      <td>Saturday</td>\n",
       "      <td>22</td>\n",
       "      <td>80</td>\n",
       "      <td>Endocrinology</td>\n",
       "    </tr>\n",
       "    <tr>\n",
       "      <th>259451</th>\n",
       "      <td>ad</td>\n",
       "      <td>0</td>\n",
       "      <td>12</td>\n",
       "      <td>Monday</td>\n",
       "      <td>21</td>\n",
       "      <td>84</td>\n",
       "      <td>Endocrinology</td>\n",
       "    </tr>\n",
       "    <tr>\n",
       "      <th>308092</th>\n",
       "      <td>psa</td>\n",
       "      <td>0</td>\n",
       "      <td>17</td>\n",
       "      <td>Saturday</td>\n",
       "      <td>23</td>\n",
       "      <td>70</td>\n",
       "      <td>Endocrinology</td>\n",
       "    </tr>\n",
       "  </tbody>\n",
       "</table>\n",
       "</div>"
      ],
      "text/plain": [
       "       test group  converted  total ads most ads day  most ads hour  age  \\\n",
       "402801         ad          0         21      Tuesday             12   70   \n",
       "129930         ad          0         72     Thursday             13   66   \n",
       "440252         ad          0          1     Saturday             22   80   \n",
       "259451         ad          0         12       Monday             21   84   \n",
       "308092        psa          0         17     Saturday             23   70   \n",
       "\n",
       "       health_condition  \n",
       "402801   Cardiovascular  \n",
       "129930   Cardiovascular  \n",
       "440252    Endocrinology  \n",
       "259451    Endocrinology  \n",
       "308092    Endocrinology  "
      ]
     },
     "execution_count": 11,
     "metadata": {},
     "output_type": "execute_result"
    }
   ],
   "source": [
    "df.sample(5)"
   ]
  },
  {
   "cell_type": "code",
   "execution_count": 12,
   "id": "5aa21422-4567-45f3-9639-51821c393470",
   "metadata": {},
   "outputs": [],
   "source": [
    "# Filter for elderly patients\n",
    "df = df[df['age'] >= 65]"
   ]
  },
  {
   "cell_type": "code",
   "execution_count": 13,
   "id": "7e38e6b3-aff5-4728-bf06-9d7753945de5",
   "metadata": {},
   "outputs": [
    {
     "data": {
      "text/plain": [
       "array([65, 71, 70, 82, 67, 77, 81, 69, 73, 83, 87, 66, 89, 85, 84, 74, 78,\n",
       "       72, 88, 79, 86, 80, 75, 68, 76])"
      ]
     },
     "execution_count": 13,
     "metadata": {},
     "output_type": "execute_result"
    }
   ],
   "source": [
    "df.age.unique()"
   ]
  },
  {
   "cell_type": "code",
   "execution_count": 14,
   "id": "f62f554e-782c-40d4-9221-f88b70a4d3f8",
   "metadata": {},
   "outputs": [],
   "source": [
    "# Save adapted dataset\n",
    "df.to_csv('healthcare_marketing_AB.csv', index=False)"
   ]
  },
  {
   "cell_type": "code",
   "execution_count": null,
   "id": "dca9da5b-2342-4367-8646-7c4e31950c5f",
   "metadata": {},
   "outputs": [],
   "source": []
  },
  {
   "cell_type": "code",
   "execution_count": 16,
   "id": "25e2d5dc-137e-4062-9756-0ef946789235",
   "metadata": {},
   "outputs": [
    {
     "name": "stdout",
     "output_type": "stream",
     "text": [
      "Dataset Info:\n",
      "<class 'pandas.core.frame.DataFrame'>\n",
      "RangeIndex: 588101 entries, 0 to 588100\n",
      "Data columns (total 7 columns):\n",
      " #   Column            Non-Null Count   Dtype \n",
      "---  ------            --------------   ----- \n",
      " 0   test group        588101 non-null  object\n",
      " 1   converted         588101 non-null  int32 \n",
      " 2   total ads         588101 non-null  int64 \n",
      " 3   most ads day      588101 non-null  object\n",
      " 4   most ads hour     588101 non-null  int64 \n",
      " 5   age               588101 non-null  int32 \n",
      " 6   health_condition  588101 non-null  object\n",
      "dtypes: int32(2), int64(2), object(3)\n",
      "memory usage: 26.9+ MB\n",
      "None\n",
      "\n",
      "Null Values:\n",
      "test group          0\n",
      "converted           0\n",
      "total ads           0\n",
      "most ads day        0\n",
      "most ads hour       0\n",
      "age                 0\n",
      "health_condition    0\n",
      "dtype: int64\n",
      "\n",
      "Statistical Summary:\n",
      "           converted      total ads  most ads hour            age\n",
      "count  588101.000000  588101.000000  588101.000000  588101.000000\n",
      "mean        0.025239      24.820876      14.469061      76.997977\n",
      "std         0.156850      43.715181       4.834634       7.202374\n",
      "min         0.000000       1.000000       0.000000      65.000000\n",
      "25%         0.000000       4.000000      11.000000      71.000000\n",
      "50%         0.000000      13.000000      14.000000      77.000000\n",
      "75%         0.000000      27.000000      18.000000      83.000000\n",
      "max         1.000000    2065.000000      23.000000      89.000000\n"
     ]
    }
   ],
   "source": [
    "# Exploratory Data Analysis (EDA)\n",
    "# Basic data overview\n",
    "print(\"Dataset Info:\")\n",
    "print(df.info())\n",
    "print(\"\\nNull Values:\")\n",
    "print(df.isna().sum())\n",
    "print(\"\\nStatistical Summary:\")\n",
    "print(df.describe())"
   ]
  },
  {
   "cell_type": "code",
   "execution_count": 17,
   "id": "e0b7d3ca-818b-41cf-8d11-c8eaee20eb12",
   "metadata": {},
   "outputs": [
    {
     "name": "stdout",
     "output_type": "stream",
     "text": [
      "\n",
      "Frequency Table for test group:\n",
      "test group\n",
      "ad     96.000007\n",
      "psa     3.999993\n",
      "Name: proportion, dtype: float64\n",
      "\n",
      "Frequency Table for most ads day:\n",
      "most ads day\n",
      "Friday       15.746955\n",
      "Monday       14.805790\n",
      "Sunday       14.519785\n",
      "Thursday     14.110161\n",
      "Saturday     13.885370\n",
      "Wednesday    13.757501\n",
      "Tuesday      13.174438\n",
      "Name: proportion, dtype: float64\n",
      "\n",
      "Frequency Table for health_condition:\n",
      "health_condition\n",
      "Cardiovascular    33.395454\n",
      "Endocrinology     33.333560\n",
      "Neurology         33.270986\n",
      "Name: proportion, dtype: float64\n"
     ]
    }
   ],
   "source": [
    "# Frequency tables for categorical variables\n",
    "for var in ['test group', 'most ads day', 'health_condition']:\n",
    "    print(f\"\\nFrequency Table for {var}:\")\n",
    "    print(df[var].value_counts(normalize=True) * 100)"
   ]
  },
  {
   "cell_type": "code",
   "execution_count": null,
   "id": "7a594e74-f32f-4697-9977-60ed8b881c9a",
   "metadata": {},
   "outputs": [],
   "source": []
  },
  {
   "cell_type": "code",
   "execution_count": 18,
   "id": "4e73e3ca-55e3-4353-8dd1-b6184ca6f9af",
   "metadata": {},
   "outputs": [],
   "source": [
    "# Preprocessing\n",
    "# Detect outliers in 'total ads' using IQR\n",
    "Q1 = df['total ads'].quantile(0.25)\n",
    "Q3 = df['total ads'].quantile(0.75)\n",
    "IQR = Q3 - Q1\n",
    "df = df[~((df['total ads'] < (Q1 - 1.5 * IQR)) | (df['total ads'] > (Q3 + 1.5 * IQR)))]"
   ]
  },
  {
   "cell_type": "code",
   "execution_count": 19,
   "id": "89d7a39b-0c91-4ada-be90-668cd32a815e",
   "metadata": {},
   "outputs": [],
   "source": [
    "# Categorize hours into time slots\n",
    "def categorize_hour(hour):\n",
    "    if 5 <= hour < 12: return 'Morning'\n",
    "    elif 12 <= hour < 17: return 'Afternoon'\n",
    "    elif 17 <= hour < 21: return 'Evening'\n",
    "    else: return 'Night'\n",
    "df['time_slot'] = df['most ads hour'].apply(categorize_hour)"
   ]
  },
  {
   "cell_type": "code",
   "execution_count": 20,
   "id": "979bd08c-489b-484f-9ecc-1c0d5c2fdf90",
   "metadata": {},
   "outputs": [
    {
     "data": {
      "text/plain": [
       "Index(['test group', 'converted', 'total ads', 'most ads day', 'most ads hour',\n",
       "       'age', 'health_condition', 'time_slot'],\n",
       "      dtype='object')"
      ]
     },
     "execution_count": 20,
     "metadata": {},
     "output_type": "execute_result"
    }
   ],
   "source": [
    "df.columns"
   ]
  },
  {
   "cell_type": "code",
   "execution_count": 21,
   "id": "fed27e2f-07b1-4b75-b74a-352e48645392",
   "metadata": {},
   "outputs": [
    {
     "data": {
      "text/html": [
       "<div>\n",
       "<style scoped>\n",
       "    .dataframe tbody tr th:only-of-type {\n",
       "        vertical-align: middle;\n",
       "    }\n",
       "\n",
       "    .dataframe tbody tr th {\n",
       "        vertical-align: top;\n",
       "    }\n",
       "\n",
       "    .dataframe thead th {\n",
       "        text-align: right;\n",
       "    }\n",
       "</style>\n",
       "<table border=\"1\" class=\"dataframe\">\n",
       "  <thead>\n",
       "    <tr style=\"text-align: right;\">\n",
       "      <th></th>\n",
       "      <th>test group</th>\n",
       "      <th>converted</th>\n",
       "      <th>total ads</th>\n",
       "      <th>most ads day</th>\n",
       "      <th>most ads hour</th>\n",
       "      <th>age</th>\n",
       "      <th>health_condition</th>\n",
       "      <th>time_slot</th>\n",
       "    </tr>\n",
       "  </thead>\n",
       "  <tbody>\n",
       "    <tr>\n",
       "      <th>215515</th>\n",
       "      <td>ad</td>\n",
       "      <td>0</td>\n",
       "      <td>39</td>\n",
       "      <td>Monday</td>\n",
       "      <td>18</td>\n",
       "      <td>84</td>\n",
       "      <td>Cardiovascular</td>\n",
       "      <td>Evening</td>\n",
       "    </tr>\n",
       "    <tr>\n",
       "      <th>248114</th>\n",
       "      <td>ad</td>\n",
       "      <td>0</td>\n",
       "      <td>30</td>\n",
       "      <td>Tuesday</td>\n",
       "      <td>13</td>\n",
       "      <td>80</td>\n",
       "      <td>Endocrinology</td>\n",
       "      <td>Afternoon</td>\n",
       "    </tr>\n",
       "    <tr>\n",
       "      <th>430704</th>\n",
       "      <td>ad</td>\n",
       "      <td>0</td>\n",
       "      <td>1</td>\n",
       "      <td>Friday</td>\n",
       "      <td>20</td>\n",
       "      <td>66</td>\n",
       "      <td>Cardiovascular</td>\n",
       "      <td>Evening</td>\n",
       "    </tr>\n",
       "    <tr>\n",
       "      <th>435892</th>\n",
       "      <td>ad</td>\n",
       "      <td>0</td>\n",
       "      <td>18</td>\n",
       "      <td>Saturday</td>\n",
       "      <td>14</td>\n",
       "      <td>70</td>\n",
       "      <td>Neurology</td>\n",
       "      <td>Afternoon</td>\n",
       "    </tr>\n",
       "    <tr>\n",
       "      <th>209333</th>\n",
       "      <td>ad</td>\n",
       "      <td>0</td>\n",
       "      <td>20</td>\n",
       "      <td>Thursday</td>\n",
       "      <td>14</td>\n",
       "      <td>83</td>\n",
       "      <td>Cardiovascular</td>\n",
       "      <td>Afternoon</td>\n",
       "    </tr>\n",
       "  </tbody>\n",
       "</table>\n",
       "</div>"
      ],
      "text/plain": [
       "       test group  converted  total ads most ads day  most ads hour  age  \\\n",
       "215515         ad          0         39       Monday             18   84   \n",
       "248114         ad          0         30      Tuesday             13   80   \n",
       "430704         ad          0          1       Friday             20   66   \n",
       "435892         ad          0         18     Saturday             14   70   \n",
       "209333         ad          0         20     Thursday             14   83   \n",
       "\n",
       "       health_condition  time_slot  \n",
       "215515   Cardiovascular    Evening  \n",
       "248114    Endocrinology  Afternoon  \n",
       "430704   Cardiovascular    Evening  \n",
       "435892        Neurology  Afternoon  \n",
       "209333   Cardiovascular  Afternoon  "
      ]
     },
     "execution_count": 21,
     "metadata": {},
     "output_type": "execute_result"
    }
   ],
   "source": [
    "df.sample(5)"
   ]
  },
  {
   "cell_type": "code",
   "execution_count": 26,
   "id": "91e84408-a2ff-4026-ae48-af2c5d9e4ea0",
   "metadata": {},
   "outputs": [
    {
     "data": {
      "text/plain": [
       "61"
      ]
     },
     "execution_count": 26,
     "metadata": {},
     "output_type": "execute_result"
    }
   ],
   "source": [
    "df['total ads'].max()"
   ]
  },
  {
   "cell_type": "code",
   "execution_count": null,
   "id": "0cb40e6c-5f49-4cd1-afff-5425d69f178e",
   "metadata": {},
   "outputs": [],
   "source": []
  },
  {
   "cell_type": "markdown",
   "id": "9435a111-d460-40cb-9069-00aaab6672fe",
   "metadata": {},
   "source": [
    "### Terminology Explanations\n",
    "\n",
    "- **Significance Level (α)**:\n",
    "  - **Definition**: The probability of rejecting the null hypothesis when it is true (Type I error, or false positive). \n",
    "  - **Context in Project**: A significance level of 0.05 means there’s a 5% chance of incorrectly concluding that the new ad campaign (e.g., for liquid formulations) is more effective than the control (PSA) when it’s not. It’s a threshold to determine if the difference in prescription uptake rates is statistically significant.\n",
    "  - **Why It Matters**: Ensures the A/B test results are reliable, minimizing false claims about campaign effectiveness, which is critical for Azurity’s data-driven commercial strategies.\n",
    "\n",
    "- **Statistical Power (1 - β)**:\n",
    "  - **Definition**: The probability of correctly rejecting the null hypothesis when it is false (i.e., detecting a true effect).\n",
    "  - **Context in Project**: A power of 80% means there’s an 80% chance of detecting a real difference in prescription uptake between the `ad` (new campaign) and `psa` (control) groups if such a difference exists. It balances the risk of missing a true effect (Type II error).\n",
    "  - **Why It Matters**: High power ensures the test is sensitive enough to identify meaningful campaign improvements, supporting company’s goal of optimizing ROI for elderly patient marketing.\n",
    "\n",
    "- **p1, p2**:\n",
    "  - **Definition**: The baseline conversion rates for the control (`p1`) and test (`p2`) groups. p1 = 0.017854` (1.7854% for PSA group) and `p2 = 0.025547` (2.5547% for ad group), derived from the Kaggle Marketing A/B Testing Dataset.\n",
    "  - **Context in Project**: `p1` represents the proportion of elderly patients requesting a prescription after seeing the control campaign (PSA, e.g., a standard flyer). `p2` represents the same for the new campaign (ad, e.g., a video ad). These rates are used to calculate the effect size, determining how many samples are needed to detect this difference.\n",
    "  - **Why It Matters**: Accurate `p1` and `p2` values ensure the sample size calculation reflects realistic expectations for campaign performance, aligning with Azurity’s need for actionable insights.\n",
    "\n",
    "- **ad, psa**:\n",
    "  - **Definition**: The two groups in the A/B test. `ad` refers to the test group exposed to the advertisement (new campaign), and `psa` refers to the control group exposed to a public service announcement (or equivalent, like a standard campaign).\n",
    "  - **Context in Project**: In the healthcare context, `ad` represents elderly patients exposed to a new marketing campaign for company’s liquid formulations (e.g., a video highlighting ease of use). `psa` represents those exposed to an existing campaign (e.g., a standard flyer). The dataset labels users as `ad` or `psa` in the `test group` column, with `converted` indicating prescription uptake.\n",
    "  - **Why It Matters**: Comparing `ad` vs. `psa` allows you to assess whether the new campaign increases prescription uptake, directly addressing Azurity’s goal of improving commercial outcomes for underserved populations.\n",
    "\n",
    "### How These Terms Work Together in Chunk 5\n",
    "- **Significance Level (α = 0.05)** and **Statistical Power (0.8)** are used in the `NormalIndPower().solve_power` function to calculate the sample size needed to detect a difference between `p1` (PSA conversion rate) and `p2` (ad conversion rate) with high confidence.\n",
    "- The **effect size** (calculated as `(p2 - p1) / ((p * (1 - p)) ** 0.5)`) quantifies the difference between `ad` and `psa` groups’ conversion rates, informing the sample size (~5631 per group).\n",
    "- **Random sampling** ensures each group (`ad` and `psa`) is equally represented in the subset `df_smpl`, reducing bias and enabling fair comparison in subsequent tests (e.g., t-test in Chunk 6).\n",
    "- This setup ensures the A/B test is robust, aligning with Azurity’s need for reliable, data-driven insights to optimize marketing campaigns for elderly patients.\n",
    "\n",
    "### Why These Terms Are Critical\n",
    "- They ensure the A/B test is statistically valid, minimizing errors and maximizing the chance of detecting true campaign improvements."
   ]
  },
  {
   "cell_type": "code",
   "execution_count": 27,
   "id": "db3120ed-cbe7-40af-a4ad-7916b823cdde",
   "metadata": {},
   "outputs": [
    {
     "name": "stdout",
     "output_type": "stream",
     "text": [
      "Required sample size per group: 5631\n"
     ]
    }
   ],
   "source": [
    "# Sample Size Calculation\n",
    "# Define parameters for sample size\n",
    "p1, p2 = 0.017854, 0.025547  # PSA and ad conversion rates\n",
    "\n",
    "p = (p1 + p2) / 2\n",
    "effect_size = (p2 - p1) / ((p * (1 - p)) ** 0.5)\n",
    "\n",
    "# Calculate sample size\n",
    "power_analysis = NormalIndPower()\n",
    "sample_size = power_analysis.solve_power(effect_size=effect_size, power=0.8, alpha=0.05, ratio=1)\n",
    "print(f\"Required sample size per group: {int(sample_size)}\")\n",
    "\n",
    "# Random sampling\n",
    "df_smpl = df.groupby('test group', group_keys=False).apply(lambda x: x.sample(n=int(sample_size), random_state=42))"
   ]
  },
  {
   "cell_type": "code",
   "execution_count": 33,
   "id": "0229bc6f-a77b-4c44-8b03-3e51a9d7d937",
   "metadata": {},
   "outputs": [
    {
     "name": "stdout",
     "output_type": "stream",
     "text": [
      "Group sizes: test group\n",
      "ad     514716\n",
      "psa     21328\n",
      "Name: count, dtype: int64\n"
     ]
    }
   ],
   "source": [
    "group_counts = df['test group'].value_counts()\n",
    "print(\"Group sizes:\", group_counts)\n",
    "\n",
    "if group_counts['psa'] < sample_size:\n",
    "    print(\"Warning: PSA group too small. Adjusting sample size.\")\n",
    "    sample_size = min(sample_size, group_counts['psa'])\n",
    "df_smpl = df.groupby('test group', group_keys=False).apply(lambda x: x.sample(n=int(sample_size), random_state=42))"
   ]
  },
  {
   "cell_type": "code",
   "execution_count": 28,
   "id": "74be68b2-c46e-4bbe-843f-0ec32e2522e9",
   "metadata": {},
   "outputs": [
    {
     "name": "stdout",
     "output_type": "stream",
     "text": [
      "T-test: T-statistic: 2.60, P-value: 0.0092\n",
      "Reject H0: Significant difference in prescription uptake.\n"
     ]
    }
   ],
   "source": [
    "# Statistical Testing\n",
    "# T-test for test groups\n",
    "\n",
    "control = df_smpl[df_smpl['test group'] == 'psa']['converted']\n",
    "test = df_smpl[df_smpl['test group'] == 'ad']['converted']\n",
    "\n",
    "t_stat, p_val = ttest_ind(test, control)\n",
    "print(f\"T-test: T-statistic: {t_stat:.2f}, P-value: {p_val:.4f}\")\n",
    "print(\"Reject H0: Significant difference in prescription uptake.\" if p_val < 0.05 else \"Fail to reject H0.\")"
   ]
  },
  {
   "cell_type": "code",
   "execution_count": 49,
   "id": "cd40c70a-588d-41aa-a4a7-4e27ea62e1f4",
   "metadata": {},
   "outputs": [
    {
     "name": "stdout",
     "output_type": "stream",
     "text": [
      "Contingency Table:\n",
      "converted      0   1\n",
      "test group          \n",
      "ad          5533  98\n",
      "psa         5566  65\n",
      "Odds Ratio: 1.52, 95% CI: [1.11, 2.08]\n"
     ]
    }
   ],
   "source": [
    "# Odds ratio and confidence interval\n",
    "contingency_table = pd.crosstab(df_smpl['test group'], df_smpl['converted'])\n",
    "print(\"Contingency Table:\")\n",
    "print(contingency_table)\n",
    "odds_ratio = (contingency_table.iloc[1,0] / contingency_table.iloc[1,1]) / (contingency_table.iloc[0,0] / contingency_table.iloc[0,1])  # ad vs. psa\n",
    "log_odds_se = np.sqrt(contingency_table.apply(lambda x: 1/x).sum().sum())\n",
    "ci_low, ci_high = np.exp(np.log(odds_ratio) - 1.96 * log_odds_se), np.exp(np.log(odds_ratio) + 1.96 * log_odds_se)\n",
    "print(f\"Odds Ratio: {odds_ratio:.2f}, 95% CI: [{ci_low:.2f}, {ci_high:.2f}]\")\n",
    "if odds_ratio < 1:\n",
    "    print(\"Note: Odds ratio < 1 suggests lower conversion odds for ad vs. psa, despite t-test significance. Check raw conversion rates.\")"
   ]
  },
  {
   "cell_type": "code",
   "execution_count": 50,
   "id": "29633705-a99b-4a30-9fa3-c6e8f56f9e96",
   "metadata": {},
   "outputs": [
    {
     "name": "stdout",
     "output_type": "stream",
     "text": [
      "ANOVA for Health Condition: F=1.27, p=0.2811\n"
     ]
    }
   ],
   "source": [
    "from scipy.stats import f_oneway\n",
    "anova_result = f_oneway(\n",
    "    df_smpl[df_smpl['health_condition'] == 'Cardiovascular']['converted'],\n",
    "    df_smpl[df_smpl['health_condition'] == 'Neurology']['converted'],\n",
    "    df_smpl[df_smpl['health_condition'] == 'Endocrinology']['converted']\n",
    ")\n",
    "print(f\"ANOVA for Health Condition: F={anova_result.statistic:.2f}, p={anova_result.pvalue:.4f}\")"
   ]
  },
  {
   "cell_type": "code",
   "execution_count": null,
   "id": "77c5a3e1-3ba1-4ceb-8d18-73a851a16e41",
   "metadata": {},
   "outputs": [],
   "source": []
  },
  {
   "cell_type": "code",
   "execution_count": null,
   "id": "c0e163c7-81f0-4f61-b26f-c56449f7daf1",
   "metadata": {},
   "outputs": [],
   "source": []
  },
  {
   "cell_type": "code",
   "execution_count": null,
   "id": "947904b1-4320-4f0a-8dc9-b6bbbf192a36",
   "metadata": {},
   "outputs": [],
   "source": []
  },
  {
   "cell_type": "code",
   "execution_count": null,
   "id": "e9aa284e-b10c-4eed-81ea-445e44e36e6f",
   "metadata": {},
   "outputs": [],
   "source": []
  },
  {
   "cell_type": "code",
   "execution_count": 42,
   "id": "da0e83a2-7de2-42d6-9ada-04190465bd76",
   "metadata": {},
   "outputs": [
    {
     "data": {
      "image/png": "[encoded data removed]",
      "text/plain": [
       "<Figure size 1000x600 with 1 Axes>"
      ]
     },
     "metadata": {},
     "output_type": "display_data"
    }
   ],
   "source": [
    "# : Visualizations\n",
    "health_condition_rates = df_smpl.groupby('health_condition')['converted'].mean().reset_index()\n",
    "\n",
    "plt.figure(figsize=(10, 6))\n",
    "sns.barplot(x='health_condition', y='converted', data=health_condition_rates)\n",
    "plt.title('Prescription Uptake by Health Condition')\n",
    "plt.xlabel('Health Condition')\n",
    "plt.ylabel('Uptake Rate')\n",
    "plt.savefig('health_condition_uptake.png')\n",
    "plt.show()"
   ]
  },
  {
   "cell_type": "code",
   "execution_count": 43,
   "id": "c8b71056-157c-4c3d-b660-825555b17eea",
   "metadata": {},
   "outputs": [
    {
     "data": {
      "image/png": "[encoded data removed]",
      "text/plain": [
       "<Figure size 800x600 with 1 Axes>"
      ]
     },
     "metadata": {},
     "output_type": "display_data"
    }
   ],
   "source": [
    "# Bar plot for test group uptake rates\n",
    "conversion_rates = df_smpl.groupby('test group')['converted'].mean().reset_index()\n",
    "plt.figure(figsize=(8, 6))\n",
    "sns.barplot(x='test group', y='converted', data=conversion_rates)\n",
    "plt.title('Prescription Uptake Rates: Ad vs. PSA')\n",
    "plt.xlabel('Campaign Type')\n",
    "plt.ylabel('Uptake Rate')\n",
    "plt.savefig('test_group_uptake.png')\n",
    "plt.show()"
   ]
  },
  {
   "cell_type": "code",
   "execution_count": 44,
   "id": "e07c5942-6bae-4c02-9044-72de767341bb",
   "metadata": {},
   "outputs": [
    {
     "data": {
      "image/png": "[encoded data removed]",
      "text/plain": [
       "<Figure size 1000x600 with 1 Axes>"
      ]
     },
     "metadata": {},
     "output_type": "display_data"
    }
   ],
   "source": [
    "# Bar plot for time slot uptake rates\n",
    "time_slot_rates = df_smpl.groupby('time_slot')['converted'].mean().reset_index()\n",
    "plt.figure(figsize=(10, 6))\n",
    "sns.barplot(x='time_slot', y='converted', data=time_slot_rates)\n",
    "plt.title('Prescription Uptake by Time Slot for Elderly Patients')\n",
    "plt.xlabel('Time Slot')\n",
    "plt.ylabel('Uptake Rate')\n",
    "plt.savefig('time_slot_uptake.png')\n",
    "plt.show()"
   ]
  },
  {
   "cell_type": "code",
   "execution_count": null,
   "id": "1b18b3c7-4b9b-44e6-a38d-5869668e382c",
   "metadata": {},
   "outputs": [],
   "source": []
  },
  {
   "cell_type": "code",
   "execution_count": null,
   "id": "658a0644-3731-4044-92fa-601d96e7060c",
   "metadata": {},
   "outputs": [],
   "source": []
  },
  {
   "cell_type": "code",
   "execution_count": null,
   "id": "644fad07-ed2c-416f-b7b6-479b2734e73a",
   "metadata": {},
   "outputs": [],
   "source": []
  },
  {
   "cell_type": "code",
   "execution_count": null,
   "id": "754ce785-6755-4e95-88c7-1b03d066341a",
   "metadata": {},
   "outputs": [],
   "source": []
  },
  {
   "cell_type": "code",
   "execution_count": null,
   "id": "6831ed77-4013-478a-bf18-80abcefa9d1f",
   "metadata": {},
   "outputs": [],
   "source": []
  },
  {
   "cell_type": "raw",
   "id": "8f4c239d-bb68-4acc-8179-70a4f8ea9874",
   "metadata": {},
   "source": [
    "# Pseudo-Code: Snowflake Integration\n",
    "\n",
    "from snowflake.connector import connect\n",
    "\n",
    "# Connect to Snowflake\n",
    "conn = connect(user='your_user', password='your_password', account='your_account')\n",
    "\n",
    "# Create database and table\n",
    "conn.cursor().execute(\"CREATE DATABASE healthcare_db;\")\n",
    "conn.cursor().execute(\"\"\"\n",
    "CREATE TABLE healthcare_db.marketing_schema.ab_test_data (\n",
    "    test_group STRING, converted INT, total_ads INT, most_ads_day STRING, \n",
    "    most_ads_hour INT, age INT, health_condition STRING, time_slot STRING\n",
    ");\n",
    "\"\"\")\n",
    "\n",
    "# Load data (assumes file in S3)\n",
    "conn.cursor().execute(\"\"\"\n",
    "COPY INTO healthcare_db.marketing_schema.ab_test_data\n",
    "FROM 's3://your-bucket/healthcare_marketing_AB.csv'\n",
    "FILE_FORMAT = (TYPE = 'CSV' SKIP_HEADER = 1);\n",
    "\"\"\")\n",
    "\n",
    "# Sample data\n",
    "conn.cursor().execute(\"\"\"\n",
    "CREATE TABLE healthcare_db.marketing_schema.ab_test_sample AS\n",
    "SELECT * FROM healthcare_db.marketing_schema.ab_test_data\n",
    "WHERE test_group = 'ad' AND ROWNUM <= 5631\n",
    "UNION ALL\n",
    "SELECT * FROM healthcare_db.marketing_schema.ab_test_data\n",
    "WHERE test_group = 'psa' AND ROWNUM <= 21328\n",
    "SAMPLE (5631) SEED(42);\n",
    "\"\"\")\n",
    "\n",
    "conn.close()"
   ]
  },
  {
   "cell_type": "code",
   "execution_count": null,
   "id": "3aad84bb-d444-43a2-9a91-6c7a75b71665",
   "metadata": {},
   "outputs": [],
   "source": []
  }
 ],
 "metadata": {
  "kernelspec": {
   "display_name": "Python 3 (ipykernel)",
   "language": "python",
   "name": "python3"
  },
  "language_info": {
   "codemirror_mode": {
    "name": "ipython",
    "version": 3
   },
   "file_extension": ".py",
   "mimetype": "text/x-python",
   "name": "python",
   "nbconvert_exporter": "python",
   "pygments_lexer": "ipython3",
   "version": "3.11.8"
  }
 },
 "nbformat": 4,
 "nbformat_minor": 5
}
